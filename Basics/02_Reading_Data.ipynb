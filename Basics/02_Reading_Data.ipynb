{
 "cells": [
  {
   "cell_type": "markdown",
   "id": "b3b19675",
   "metadata": {},
   "source": [
    "#### Reading the data"
   ]
  },
  {
   "cell_type": "code",
   "execution_count": null,
   "id": "710d022f",
   "metadata": {},
   "outputs": [
    {
     "ename": "ModuleNotFoundError",
     "evalue": "No module named 'openpyxl'",
     "output_type": "error",
     "traceback": [
      "\u001b[31m---------------------------------------------------------------------------\u001b[39m",
      "\u001b[31mModuleNotFoundError\u001b[39m                       Traceback (most recent call last)",
      "\u001b[36mCell\u001b[39m\u001b[36m \u001b[39m\u001b[32mIn[1]\u001b[39m\u001b[32m, line 2\u001b[39m\n\u001b[32m      1\u001b[39m \u001b[38;5;28;01mimport\u001b[39;00m\u001b[38;5;250m \u001b[39m\u001b[34;01mpandas\u001b[39;00m\u001b[38;5;250m \u001b[39m\u001b[38;5;28;01mas\u001b[39;00m\u001b[38;5;250m \u001b[39m\u001b[34;01mpd\u001b[39;00m\n\u001b[32m----> \u001b[39m\u001b[32m2\u001b[39m \u001b[38;5;28;01mimport\u001b[39;00m\u001b[38;5;250m \u001b[39m\u001b[34;01mopenpyxl\u001b[39;00m \n",
      "\u001b[31mModuleNotFoundError\u001b[39m: No module named 'openpyxl'"
     ]
    }
   ],
   "source": [
    "import pandas as pd"
   ]
  },
  {
   "cell_type": "markdown",
   "id": "6e5d4419",
   "metadata": {},
   "source": [
    "Reading the CSV dataset"
   ]
  },
  {
   "cell_type": "code",
   "execution_count": 3,
   "id": "65a92d5b",
   "metadata": {},
   "outputs": [
    {
     "name": "stdout",
     "output_type": "stream",
     "text": [
      "               model   mpg  cyl   disp   hp  drat     wt   qsec  vs  am  gear  \\\n",
      "0          Mazda RX4  21.0    6  160.0  110  3.90  2.620  16.46   0   1     4   \n",
      "1      Mazda RX4 Wag  21.0    6  160.0  110  3.90  2.875  17.02   0   1     4   \n",
      "2         Datsun 710  22.8    4  108.0   93  3.85  2.320  18.61   1   1     4   \n",
      "3     Hornet 4 Drive  21.4    6  258.0  110  3.08  3.215  19.44   1   0     3   \n",
      "4  Hornet Sportabout  18.7    8  360.0  175  3.15  3.440  17.02   0   0     3   \n",
      "\n",
      "   carb  \n",
      "0     4  \n",
      "1     4  \n",
      "2     1  \n",
      "3     1  \n",
      "4     2  \n"
     ]
    }
   ],
   "source": [
    "df_csv = pd.read_csv('mtcars.csv')\n",
    "print(df_csv.head())"
   ]
  },
  {
   "cell_type": "markdown",
   "id": "0b0ec899",
   "metadata": {},
   "source": [
    "Reading the json dataset"
   ]
  },
  {
   "cell_type": "code",
   "execution_count": 2,
   "id": "2dccc4c6",
   "metadata": {},
   "outputs": [
    {
     "name": "stdout",
     "output_type": "stream",
     "text": [
      "                                                            0     \\\n",
      "Contient                                                  Africa   \n",
      "Country_State                                               None   \n",
      "cuisine                                                 Missouri   \n",
      "title                                    Ground Beef and Cabbage   \n",
      "URL            https://www.allrecipes.com/recipe/229324/groun...   \n",
      "\n",
      "                                                            1     \\\n",
      "Contient                                                  Africa   \n",
      "Country_State                                               None   \n",
      "cuisine                                                 Missouri   \n",
      "title                                Old Fashioned Peach Cobbler   \n",
      "URL            https://www.allrecipes.com/recipe/19897/old-fa...   \n",
      "\n",
      "                                                            2     \\\n",
      "Contient                                                  Africa   \n",
      "Country_State                                               None   \n",
      "cuisine                                                 Missouri   \n",
      "title                                  St. Louis Toasted Ravioli   \n",
      "URL            https://www.allrecipes.com/recipe/16907/st-lou...   \n",
      "\n",
      "                                                            3     \\\n",
      "Contient                                                  Africa   \n",
      "Country_State                                               None   \n",
      "cuisine                                                 Missouri   \n",
      "title                             Amish Friendship Bread Starter   \n",
      "URL            https://www.allrecipes.com/recipe/7063/amish-f...   \n",
      "\n",
      "                                                            4     \\\n",
      "Contient                                                  Africa   \n",
      "Country_State                                               None   \n",
      "cuisine                                                 Missouri   \n",
      "title                               Simple Fried Morel Mushrooms   \n",
      "URL            https://www.allrecipes.com/recipe/220833/simpl...   \n",
      "\n",
      "                                                            5     \\\n",
      "Contient                                                  Africa   \n",
      "Country_State                                               None   \n",
      "cuisine                                                 Missouri   \n",
      "title                                Big Al's K.C. Bar-B-Q Sauce   \n",
      "URL            https://www.allrecipes.com/recipe/44491/big-al...   \n",
      "\n",
      "                                                            6     \\\n",
      "Contient                                                  Africa   \n",
      "Country_State                                               None   \n",
      "cuisine                                                 Missouri   \n",
      "title                                       Lemon Zucchini Bread   \n",
      "URL            https://www.allrecipes.com/recipe/58817/lemon-...   \n",
      "\n",
      "                                                            7     \\\n",
      "Contient                                                  Africa   \n",
      "Country_State                                               None   \n",
      "cuisine                                                 Missouri   \n",
      "title                         Springfield Style Cashew Chicken I   \n",
      "URL            https://www.allrecipes.com/recipe/9009/springf...   \n",
      "\n",
      "                                                            8     \\\n",
      "Contient                                                  Africa   \n",
      "Country_State                                               None   \n",
      "cuisine                                                 Missouri   \n",
      "title                                      Kansas City Ice Water   \n",
      "URL            https://www.allrecipes.com/recipe/51923/kansas...   \n",
      "\n",
      "                                                            9     ...  \\\n",
      "Contient                                                  Africa  ...   \n",
      "Country_State                                               None  ...   \n",
      "cuisine                                                 Missouri  ...   \n",
      "title                                      St. Louis Pork Steaks  ...   \n",
      "URL            https://www.allrecipes.com/recipe/73669/st-lou...  ...   \n",
      "\n",
      "                                                            3753  \\\n",
      "Contient                                                  Africa   \n",
      "Country_State                                               None   \n",
      "cuisine                                                  Montana   \n",
      "title                                        The Humble Shepherd   \n",
      "URL            https://www.allrecipes.com/recipe/76519/the-hu...   \n",
      "\n",
      "                                                            3754  \\\n",
      "Contient                                                  Africa   \n",
      "Country_State                                               None   \n",
      "cuisine                                                  Montana   \n",
      "title                              Easy Slow Cooker Venison Stew   \n",
      "URL            https://www.allrecipes.com/recipe/32081/easy-s...   \n",
      "\n",
      "                                                            3755  \\\n",
      "Contient                                                  Africa   \n",
      "Country_State                                               None   \n",
      "cuisine                                                  Montana   \n",
      "title                                   Fennel in Wine and Honey   \n",
      "URL            https://www.allrecipes.com/recipe/95546/fennel...   \n",
      "\n",
      "                                                            3756  \\\n",
      "Contient                                                  Africa   \n",
      "Country_State                                               None   \n",
      "cuisine                                                  Montana   \n",
      "title          Spinach and Goat Cheese Salad with Beetroot Vi...   \n",
      "URL            https://www.allrecipes.com/recipe/46492/spinac...   \n",
      "\n",
      "                                                            3757  \\\n",
      "Contient                                                  Africa   \n",
      "Country_State                                               None   \n",
      "cuisine                                                  Montana   \n",
      "title                                Montana Russian Black Bread   \n",
      "URL            https://www.allrecipes.com/recipe/236547/monta...   \n",
      "\n",
      "                                                            3758  \\\n",
      "Contient                                                  Africa   \n",
      "Country_State                                               None   \n",
      "cuisine                                                  Montana   \n",
      "title                                      Cracked Black Venison   \n",
      "URL            https://www.allrecipes.com/recipe/18774/cracke...   \n",
      "\n",
      "                                                            3759  \\\n",
      "Contient                                                  Africa   \n",
      "Country_State                                               None   \n",
      "cuisine                                                  Montana   \n",
      "title                                    Montana Spicy Bison Dip   \n",
      "URL            https://www.allrecipes.com/recipe/256810/monta...   \n",
      "\n",
      "                                                            3760  \\\n",
      "Contient                                                  Africa   \n",
      "Country_State                                               None   \n",
      "cuisine                                                  Montana   \n",
      "title             Grandpa Mack's Fifth-Generation Pancake Recipe   \n",
      "URL            https://www.allrecipes.com/recipe/279565/grand...   \n",
      "\n",
      "                                                            3761  \\\n",
      "Contient                                                  Africa   \n",
      "Country_State                                               None   \n",
      "cuisine                                                  Montana   \n",
      "title                               Couscous with Dried Cherries   \n",
      "URL            https://www.allrecipes.com/recipe/18273/cousco...   \n",
      "\n",
      "                                                            3762  \n",
      "Contient                                                  Africa  \n",
      "Country_State                                               None  \n",
      "cuisine                                                  Montana  \n",
      "title                                         Jo's Mountain Mush  \n",
      "URL            https://www.allrecipes.com/recipe/21272/jos-mo...  \n",
      "\n",
      "[5 rows x 3763 columns]\n"
     ]
    }
   ],
   "source": [
    "df_json = pd.read_json('recipe.json')\n",
    "\n",
    "print(df_json.head())"
   ]
  }
 ],
 "metadata": {
  "kernelspec": {
   "display_name": "venv",
   "language": "python",
   "name": "python3"
  },
  "language_info": {
   "codemirror_mode": {
    "name": "ipython",
    "version": 3
   },
   "file_extension": ".py",
   "mimetype": "text/x-python",
   "name": "python",
   "nbconvert_exporter": "python",
   "pygments_lexer": "ipython3",
   "version": "3.13.1"
  }
 },
 "nbformat": 4,
 "nbformat_minor": 5
}
