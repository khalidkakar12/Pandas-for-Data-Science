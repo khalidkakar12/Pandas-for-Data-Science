{
 "cells": [
  {
   "cell_type": "markdown",
   "id": "e00ba970",
   "metadata": {},
   "source": [
    "#### Pandas is library that provides following things.\n",
    "- Data Structures (Series and Dataframe).\n",
    "- Tool designed for Data Analysis and Manipulating.\n",
    "- Cleaning, Analyzing and Transforming data.\n",
    "- Powerful library for structured data such as Table and Time series."
   ]
  },
  {
   "cell_type": "markdown",
   "id": "313abebf",
   "metadata": {},
   "source": [
    "#### Data Structure in Pandas\n",
    "- 🧵 Series:-\n",
    "    A Series is a one-dimensional labeled array capable of holding any data type (integers, strings, floats, Python objects, etc.).\n",
    "- 📊 Dataframe:- \n",
    "    A DataFrame is a two-dimensional labeled data structure with columns of potentially different types. It's like a table in a database, or an Excel spreadsheet."
   ]
  },
  {
   "cell_type": "code",
   "execution_count": 5,
   "id": "f332365e",
   "metadata": {},
   "outputs": [],
   "source": [
    "import pandas as pd"
   ]
  },
  {
   "cell_type": "code",
   "execution_count": 6,
   "id": "9f5f3cba",
   "metadata": {},
   "outputs": [
    {
     "name": "stdout",
     "output_type": "stream",
     "text": [
      "a    10\n",
      "b    20\n",
      "c    30\n",
      "d    40\n",
      "e    50\n",
      "f    60\n",
      "dtype: int64\n"
     ]
    }
   ],
   "source": [
    "series = pd.Series([10,20,30,40,50,60], index=['a','b','c','d','e','f'])\n",
    "\n",
    "print(series)"
   ]
  },
  {
   "cell_type": "code",
   "execution_count": 7,
   "id": "1fe06483",
   "metadata": {},
   "outputs": [
    {
     "name": "stdout",
     "output_type": "stream",
     "text": [
      "     Name  Marks  Age\n",
      "0  khalid    100   20\n",
      "1  Karach     90   21\n",
      "2   Jamil     80   22\n",
      "3   Ibrar     70   23\n"
     ]
    }
   ],
   "source": [
    "df = pd.DataFrame({\n",
    "    \"Name\":['khalid', 'Karach', 'Jamil', 'Ibrar'],\n",
    "    \"Marks\": [100, 90, 80, 70],\n",
    "    \"Age\": [20, 21, 22, 23]\n",
    "})\n",
    "\n",
    "print(df)"
   ]
  }
 ],
 "metadata": {
  "kernelspec": {
   "display_name": "venv",
   "language": "python",
   "name": "python3"
  },
  "language_info": {
   "codemirror_mode": {
    "name": "ipython",
    "version": 3
   },
   "file_extension": ".py",
   "mimetype": "text/x-python",
   "name": "python",
   "nbconvert_exporter": "python",
   "pygments_lexer": "ipython3",
   "version": "3.13.1"
  }
 },
 "nbformat": 4,
 "nbformat_minor": 5
}
